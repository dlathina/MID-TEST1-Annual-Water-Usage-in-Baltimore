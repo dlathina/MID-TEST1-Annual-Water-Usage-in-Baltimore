{
 "cells": [
  {
   "cell_type": "markdown",
   "metadata": {},
   "source": [
    "# Introduction\n",
    "The Dataset provides the annual water usage in Baltimore from 1885 to 1963, or 79 years of data. The values are in the units of liters per capita per day, and there are 79 observations.\n"
   ]
  },
  {
   "cell_type": "markdown",
   "metadata": {},
   "source": [
    "# Objective\n",
    "Creationg models using ARIMA to making a prediction the annual water usage in Baltimore. Follow the steps below:"
   ]
  },
  {
   "cell_type": "markdown",
   "metadata": {},
   "source": [
    "## The Steps: \n",
    "1. Load the dataset as a Pandas Series and split into two, one for model development (dataset.csv) and the other for validation (validation.csv). \n",
    "2. Create summary of the dataset, with python function. \n",
    "3. Create A line plot of a time series dataset, it will provide a lot of insight into the problem. \n",
    "4. Group the annual data by decade and get an idea of the spread of observations for each decade and how this may be changing. \n",
    "5. Create models using ARIMA \n",
    "    - Split the dataset into train and test sets directly \n",
    "    - The ﬁrst 50% of the dataset will be held back to train the model.\n",
    "    - The remaining 50% of the dataset will be iterated and test the model. \n",
    "    - The ARIMA(p,d,q) model requires three parameters and is traditionally conﬁgured manually. \n",
    "    - Use an ARIMA(0,1,0) on the raw data may be a good starting point. \n",
    "    - When model trained, a one-step prediction made ang the prediction stored for later evaluation. \n",
    "    - The actual observation from the test dataset woll be added to the training dataset for the next iteration. \n",
    "    - The predictions made during the enumeration of the test dataset will be evaluated and an RMSE score reported. \n",
    "6. Calculate the RMSE using the helper function from the scikit-learn library, from dataset only I. Those RMSE will show you on average, how much the error/the model was wrong/gap between predection and expected value per capita per day for each prediction made."
   ]
  },
  {
   "cell_type": "markdown",
   "metadata": {},
   "source": [
    "## Follow the Steps"
   ]
  },
  {
   "cell_type": "markdown",
   "metadata": {},
   "source": [
    "#### Data Preparation "
   ]
  },
  {
   "cell_type": "code",
   "execution_count": 138,
   "metadata": {},
   "outputs": [],
   "source": [
    "# import libraries\n",
    "# scipy\n",
    "import scipy as  sci\n",
    "from scipy.stats import boxcox\n",
    "\n",
    "# numpy\n",
    "import numpy as np\n",
    "\n",
    "# statsmodels\n",
    "import statsmodels as sml\n",
    "from statsmodels.tsa.stattools import adfuller\n",
    "from statsmodels.tsa.arima_model import ARIMA\n",
    "from statsmodels.graphics.tsaplots import plot_acf, plot_pacf\n",
    "\n",
    "# scikit-learn\n",
    "import sklearn as skl\n",
    "from sklearn.model_selection import train_test_split\n",
    "\n",
    "# pandas\n",
    "import pandas as pd\n",
    "\n",
    "\n",
    "%matplotlib inline \n",
    "import matplotlib.pyplot as plt "
   ]
  },
  {
   "cell_type": "markdown",
   "metadata": {},
   "source": [
    "### 1. Load the dataset as a Pandas Series and split into two, one for model development (dataset.csv) and the other for validation (validation.csv). "
   ]
  },
  {
   "cell_type": "code",
   "execution_count": 23,
   "metadata": {},
   "outputs": [],
   "source": [
    "# load the data\n",
    "data=pd.read_csv('water.csv')\n",
    "\n",
    "#rename column 'Baltmore city annual water use, liters per capita per day, 1885-1968' with 'Water'\n",
    "data=data.rename(columns={'Baltmore city annual water use, liters per capita per day, 1885-1968':'Water'})\n",
    "\n",
    "# split data into training set and validation set\n",
    "# Dataset consists of data from 1885 to 1953\n",
    "# Validaion consists of data from 1954 to 1963\n",
    "dataset = data[0:len(data)-10]\n",
    "validation = data[len(data)-10:]\n",
    "\n",
    "# saving splitted data to csv\n",
    "dataset.to_csv(r'C:\\Users\\dwilar064174\\Documents\\DS-Dwilaras Athina\\MID TEST\\Jawab Mid\\Python Use Case\\dataset.csv')\n",
    "validation.to_csv(r'C:\\Users\\dwilar064174\\Documents\\DS-Dwilaras Athina\\MID TEST\\Jawab Mid\\Python Use Case\\validation.csv')"
   ]
  },
  {
   "cell_type": "markdown",
   "metadata": {},
   "source": [
    "Data dari water.csv dibagi menjadi dua bagian. Yaitu dataset.csv dan validation.csv. Dataset.csv adalah 70 data pertama dari water.csv sedangkan validation.csv adalah 9 data terakhir yang akan menjadi validasi. Dataset.csv dan Validation.csv disimpan didalam folder dengan cara diatas. "
   ]
  },
  {
   "cell_type": "markdown",
   "metadata": {},
   "source": [
    "### 2. Create summary of the dataset, with python function"
   ]
  },
  {
   "cell_type": "markdown",
   "metadata": {},
   "source": [
    "#### Exploratory Data Analysis"
   ]
  },
  {
   "cell_type": "code",
   "execution_count": 25,
   "metadata": {},
   "outputs": [
    {
     "data": {
      "text/html": [
       "<div>\n",
       "<style scoped>\n",
       "    .dataframe tbody tr th:only-of-type {\n",
       "        vertical-align: middle;\n",
       "    }\n",
       "\n",
       "    .dataframe tbody tr th {\n",
       "        vertical-align: top;\n",
       "    }\n",
       "\n",
       "    .dataframe thead th {\n",
       "        text-align: right;\n",
       "    }\n",
       "</style>\n",
       "<table border=\"1\" class=\"dataframe\">\n",
       "  <thead>\n",
       "    <tr style=\"text-align: right;\">\n",
       "      <th></th>\n",
       "      <th>Year</th>\n",
       "      <th>Water</th>\n",
       "    </tr>\n",
       "  </thead>\n",
       "  <tbody>\n",
       "    <tr>\n",
       "      <th>0</th>\n",
       "      <td>1885</td>\n",
       "      <td>356</td>\n",
       "    </tr>\n",
       "    <tr>\n",
       "      <th>1</th>\n",
       "      <td>1886</td>\n",
       "      <td>386</td>\n",
       "    </tr>\n",
       "    <tr>\n",
       "      <th>2</th>\n",
       "      <td>1887</td>\n",
       "      <td>397</td>\n",
       "    </tr>\n",
       "    <tr>\n",
       "      <th>3</th>\n",
       "      <td>1888</td>\n",
       "      <td>397</td>\n",
       "    </tr>\n",
       "    <tr>\n",
       "      <th>4</th>\n",
       "      <td>1889</td>\n",
       "      <td>413</td>\n",
       "    </tr>\n",
       "    <tr>\n",
       "      <th>5</th>\n",
       "      <td>1890</td>\n",
       "      <td>458</td>\n",
       "    </tr>\n",
       "    <tr>\n",
       "      <th>6</th>\n",
       "      <td>1891</td>\n",
       "      <td>485</td>\n",
       "    </tr>\n",
       "    <tr>\n",
       "      <th>7</th>\n",
       "      <td>1892</td>\n",
       "      <td>344</td>\n",
       "    </tr>\n",
       "    <tr>\n",
       "      <th>8</th>\n",
       "      <td>1893</td>\n",
       "      <td>390</td>\n",
       "    </tr>\n",
       "    <tr>\n",
       "      <th>9</th>\n",
       "      <td>1894</td>\n",
       "      <td>360</td>\n",
       "    </tr>\n",
       "  </tbody>\n",
       "</table>\n",
       "</div>"
      ],
      "text/plain": [
       "   Year  Water\n",
       "0  1885    356\n",
       "1  1886    386\n",
       "2  1887    397\n",
       "3  1888    397\n",
       "4  1889    413\n",
       "5  1890    458\n",
       "6  1891    485\n",
       "7  1892    344\n",
       "8  1893    390\n",
       "9  1894    360"
      ]
     },
     "execution_count": 25,
     "metadata": {},
     "output_type": "execute_result"
    }
   ],
   "source": [
    "# looking for first 10 data from dataset\n",
    "dataset.head(10)"
   ]
  },
  {
   "cell_type": "code",
   "execution_count": 26,
   "metadata": {
    "scrolled": true
   },
   "outputs": [
    {
     "name": "stdout",
     "output_type": "stream",
     "text": [
      "<class 'pandas.core.frame.DataFrame'>\n",
      "RangeIndex: 69 entries, 0 to 68\n",
      "Data columns (total 2 columns):\n",
      "Year     69 non-null int64\n",
      "Water    69 non-null int64\n",
      "dtypes: int64(2)\n",
      "memory usage: 1.2 KB\n"
     ]
    }
   ],
   "source": [
    "# Get the info from dataset\n",
    "dataset.info()"
   ]
  },
  {
   "cell_type": "markdown",
   "metadata": {},
   "source": [
    "From the info above there is no missing values in dataset"
   ]
  },
  {
   "cell_type": "code",
   "execution_count": 27,
   "metadata": {
    "scrolled": false
   },
   "outputs": [
    {
     "data": {
      "text/html": [
       "<div>\n",
       "<style scoped>\n",
       "    .dataframe tbody tr th:only-of-type {\n",
       "        vertical-align: middle;\n",
       "    }\n",
       "\n",
       "    .dataframe tbody tr th {\n",
       "        vertical-align: top;\n",
       "    }\n",
       "\n",
       "    .dataframe thead th {\n",
       "        text-align: right;\n",
       "    }\n",
       "</style>\n",
       "<table border=\"1\" class=\"dataframe\">\n",
       "  <thead>\n",
       "    <tr style=\"text-align: right;\">\n",
       "      <th></th>\n",
       "      <th>Year</th>\n",
       "      <th>Water</th>\n",
       "    </tr>\n",
       "  </thead>\n",
       "  <tbody>\n",
       "    <tr>\n",
       "      <th>count</th>\n",
       "      <td>69.000000</td>\n",
       "      <td>69.000000</td>\n",
       "    </tr>\n",
       "    <tr>\n",
       "      <th>mean</th>\n",
       "      <td>1919.000000</td>\n",
       "      <td>500.478261</td>\n",
       "    </tr>\n",
       "    <tr>\n",
       "      <th>std</th>\n",
       "      <td>20.062403</td>\n",
       "      <td>73.901685</td>\n",
       "    </tr>\n",
       "    <tr>\n",
       "      <th>min</th>\n",
       "      <td>1885.000000</td>\n",
       "      <td>344.000000</td>\n",
       "    </tr>\n",
       "    <tr>\n",
       "      <th>25%</th>\n",
       "      <td>1902.000000</td>\n",
       "      <td>458.000000</td>\n",
       "    </tr>\n",
       "    <tr>\n",
       "      <th>50%</th>\n",
       "      <td>1919.000000</td>\n",
       "      <td>492.000000</td>\n",
       "    </tr>\n",
       "    <tr>\n",
       "      <th>75%</th>\n",
       "      <td>1936.000000</td>\n",
       "      <td>538.000000</td>\n",
       "    </tr>\n",
       "    <tr>\n",
       "      <th>max</th>\n",
       "      <td>1953.000000</td>\n",
       "      <td>662.000000</td>\n",
       "    </tr>\n",
       "  </tbody>\n",
       "</table>\n",
       "</div>"
      ],
      "text/plain": [
       "              Year       Water\n",
       "count    69.000000   69.000000\n",
       "mean   1919.000000  500.478261\n",
       "std      20.062403   73.901685\n",
       "min    1885.000000  344.000000\n",
       "25%    1902.000000  458.000000\n",
       "50%    1919.000000  492.000000\n",
       "75%    1936.000000  538.000000\n",
       "max    1953.000000  662.000000"
      ]
     },
     "execution_count": 27,
     "metadata": {},
     "output_type": "execute_result"
    }
   ],
   "source": [
    "dataset.describe()"
   ]
  },
  {
   "cell_type": "markdown",
   "metadata": {},
   "source": [
    "Dari deskripsi diatas, ternyata jumlah air maksimal yang dipakai oleh warga Baltimore adalah 662 liters per capita per hari, dan jumlah air minimal adalah 344 liters per capita per hari. "
   ]
  },
  {
   "cell_type": "code",
   "execution_count": 63,
   "metadata": {
    "scrolled": true
   },
   "outputs": [
    {
     "data": {
      "text/plain": [
       "Text(0,0.5,'water')"
      ]
     },
     "execution_count": 63,
     "metadata": {},
     "output_type": "execute_result"
    },
    {
     "data": {
      "image/png": "[encoded data removed]",
      "text/plain": [
       "<matplotlib.figure.Figure at 0x2888fb4b860>"
      ]
     },
     "metadata": {},
     "output_type": "display_data"
    }
   ],
   "source": [
    "#making scatter plot from dataset \n",
    "X=dataset.iloc[:,0]\n",
    "y=dataset.iloc[:,1]\n",
    "\n",
    "plt.figure(figsize=(12,5))\n",
    "plt.scatter(X,y)\n",
    "plt.xlabel('year')\n",
    "plt.ylabel('water')"
   ]
  },
  {
   "cell_type": "markdown",
   "metadata": {},
   "source": [
    "Untuk memudahkan melihat penggunaan air setiap tahunnya, dan perbandingan penggunaan air dapat dilihat dari scater plot diatas. Terlihat bahwa terdapat pemakaian air yang sangat besar pada pertengahan periode 1910-1920. Lalu kembali lagi turun setelah itu. "
   ]
  },
  {
   "cell_type": "markdown",
   "metadata": {},
   "source": [
    "### 3. Create A line plot of a time series dataset, it will provide a lot of insight into the problem."
   ]
  },
  {
   "cell_type": "code",
   "execution_count": 64,
   "metadata": {},
   "outputs": [],
   "source": [
    "datasetnew = pd.read_csv('dataset.csv', parse_dates=[0], index_col=['Year'], header=0)"
   ]
  },
  {
   "cell_type": "markdown",
   "metadata": {},
   "source": [
    "Disini saya menggunakan year sebagai index, lalu saya akan menghapus kolom Unnamed:0"
   ]
  },
  {
   "cell_type": "code",
   "execution_count": 66,
   "metadata": {
    "scrolled": false
   },
   "outputs": [
    {
     "data": {
      "text/html": [
       "<div>\n",
       "<style scoped>\n",
       "    .dataframe tbody tr th:only-of-type {\n",
       "        vertical-align: middle;\n",
       "    }\n",
       "\n",
       "    .dataframe tbody tr th {\n",
       "        vertical-align: top;\n",
       "    }\n",
       "\n",
       "    .dataframe thead th {\n",
       "        text-align: right;\n",
       "    }\n",
       "</style>\n",
       "<table border=\"1\" class=\"dataframe\">\n",
       "  <thead>\n",
       "    <tr style=\"text-align: right;\">\n",
       "      <th></th>\n",
       "      <th>Unnamed: 0</th>\n",
       "      <th>Water</th>\n",
       "    </tr>\n",
       "    <tr>\n",
       "      <th>Year</th>\n",
       "      <th></th>\n",
       "      <th></th>\n",
       "    </tr>\n",
       "  </thead>\n",
       "  <tbody>\n",
       "    <tr>\n",
       "      <th>1885</th>\n",
       "      <td>0</td>\n",
       "      <td>356</td>\n",
       "    </tr>\n",
       "    <tr>\n",
       "      <th>1886</th>\n",
       "      <td>1</td>\n",
       "      <td>386</td>\n",
       "    </tr>\n",
       "    <tr>\n",
       "      <th>1887</th>\n",
       "      <td>2</td>\n",
       "      <td>397</td>\n",
       "    </tr>\n",
       "    <tr>\n",
       "      <th>1888</th>\n",
       "      <td>3</td>\n",
       "      <td>397</td>\n",
       "    </tr>\n",
       "    <tr>\n",
       "      <th>1889</th>\n",
       "      <td>4</td>\n",
       "      <td>413</td>\n",
       "    </tr>\n",
       "  </tbody>\n",
       "</table>\n",
       "</div>"
      ],
      "text/plain": [
       "     Unnamed: 0  Water\n",
       "Year                  \n",
       "1885          0    356\n",
       "1886          1    386\n",
       "1887          2    397\n",
       "1888          3    397\n",
       "1889          4    413"
      ]
     },
     "execution_count": 66,
     "metadata": {},
     "output_type": "execute_result"
    }
   ],
   "source": [
    "datasetnew.head()"
   ]
  },
  {
   "cell_type": "code",
   "execution_count": 71,
   "metadata": {
    "scrolled": false
   },
   "outputs": [
    {
     "data": {
      "text/html": [
       "<div>\n",
       "<style scoped>\n",
       "    .dataframe tbody tr th:only-of-type {\n",
       "        vertical-align: middle;\n",
       "    }\n",
       "\n",
       "    .dataframe tbody tr th {\n",
       "        vertical-align: top;\n",
       "    }\n",
       "\n",
       "    .dataframe thead th {\n",
       "        text-align: right;\n",
       "    }\n",
       "</style>\n",
       "<table border=\"1\" class=\"dataframe\">\n",
       "  <thead>\n",
       "    <tr style=\"text-align: right;\">\n",
       "      <th></th>\n",
       "      <th>Water</th>\n",
       "    </tr>\n",
       "    <tr>\n",
       "      <th>Year</th>\n",
       "      <th></th>\n",
       "    </tr>\n",
       "  </thead>\n",
       "  <tbody>\n",
       "    <tr>\n",
       "      <th>1885</th>\n",
       "      <td>356</td>\n",
       "    </tr>\n",
       "    <tr>\n",
       "      <th>1886</th>\n",
       "      <td>386</td>\n",
       "    </tr>\n",
       "    <tr>\n",
       "      <th>1887</th>\n",
       "      <td>397</td>\n",
       "    </tr>\n",
       "    <tr>\n",
       "      <th>1888</th>\n",
       "      <td>397</td>\n",
       "    </tr>\n",
       "    <tr>\n",
       "      <th>1889</th>\n",
       "      <td>413</td>\n",
       "    </tr>\n",
       "  </tbody>\n",
       "</table>\n",
       "</div>"
      ],
      "text/plain": [
       "      Water\n",
       "Year       \n",
       "1885    356\n",
       "1886    386\n",
       "1887    397\n",
       "1888    397\n",
       "1889    413"
      ]
     },
     "execution_count": 71,
     "metadata": {},
     "output_type": "execute_result"
    }
   ],
   "source": [
    "#drop column Unnamed :0\n",
    "datasetnew=datasetnew.drop(['Unnamed: 0'], axis=1)\n",
    "datasetnew.head()"
   ]
  },
  {
   "cell_type": "code",
   "execution_count": 196,
   "metadata": {},
   "outputs": [
    {
     "data": {
      "text/html": [
       "<div>\n",
       "<style scoped>\n",
       "    .dataframe tbody tr th:only-of-type {\n",
       "        vertical-align: middle;\n",
       "    }\n",
       "\n",
       "    .dataframe tbody tr th {\n",
       "        vertical-align: top;\n",
       "    }\n",
       "\n",
       "    .dataframe thead th {\n",
       "        text-align: right;\n",
       "    }\n",
       "</style>\n",
       "<table border=\"1\" class=\"dataframe\">\n",
       "  <thead>\n",
       "    <tr style=\"text-align: right;\">\n",
       "      <th></th>\n",
       "      <th>Water</th>\n",
       "    </tr>\n",
       "    <tr>\n",
       "      <th>Year</th>\n",
       "      <th></th>\n",
       "    </tr>\n",
       "  </thead>\n",
       "  <tbody>\n",
       "    <tr>\n",
       "      <th>1954</th>\n",
       "      <td>568</td>\n",
       "    </tr>\n",
       "    <tr>\n",
       "      <th>1955</th>\n",
       "      <td>575</td>\n",
       "    </tr>\n",
       "    <tr>\n",
       "      <th>1956</th>\n",
       "      <td>579</td>\n",
       "    </tr>\n",
       "    <tr>\n",
       "      <th>1957</th>\n",
       "      <td>587</td>\n",
       "    </tr>\n",
       "    <tr>\n",
       "      <th>1958</th>\n",
       "      <td>602</td>\n",
       "    </tr>\n",
       "  </tbody>\n",
       "</table>\n",
       "</div>"
      ],
      "text/plain": [
       "      Water\n",
       "Year       \n",
       "1954    568\n",
       "1955    575\n",
       "1956    579\n",
       "1957    587\n",
       "1958    602"
      ]
     },
     "execution_count": 196,
     "metadata": {},
     "output_type": "execute_result"
    }
   ],
   "source": [
    "# the same stages for validation data \n",
    "validation = pd.read_csv('validation.csv', parse_dates=[0], index_col=['Year'], header=0)\n",
    "#drop column Unnamed :0\n",
    "validationnew=validation.drop(['Unnamed: 0'], axis=1)\n",
    "validationnew.head()"
   ]
  },
  {
   "cell_type": "markdown",
   "metadata": {},
   "source": [
    "### Line Plot"
   ]
  },
  {
   "cell_type": "code",
   "execution_count": 72,
   "metadata": {},
   "outputs": [
    {
     "data": {
      "image/png": "[encoded data removed]",
      "text/plain": [
       "<matplotlib.figure.Figure at 0x28890e144a8>"
      ]
     },
     "metadata": {},
     "output_type": "display_data"
    }
   ],
   "source": [
    "plt.plot(datasetnew)\n",
    "plt.xlabel('Year')\n",
    "plt.ylabel('Water Usage')\n",
    "plt.show()"
   ]
  },
  {
   "cell_type": "markdown",
   "metadata": {},
   "source": [
    "#### Analysis (Line Plot):\n",
    "1. There are low and high fluctations towards the starting and somewhat at end of the data.\n",
    "2. In the middle between the years 1910-1920 the fluctuation is high, seems like people in baltimore during the years 1910-1920 consumed a lot of water. I assume that the population during this time increased or might be something else."
   ]
  },
  {
   "cell_type": "markdown",
   "metadata": {},
   "source": [
    "### Density Plot"
   ]
  },
  {
   "cell_type": "code",
   "execution_count": 74,
   "metadata": {},
   "outputs": [
    {
     "data": {
      "image/png": "[encoded data removed]",
      "text/plain": [
       "<matplotlib.figure.Figure at 0x2888fcce2e8>"
      ]
     },
     "metadata": {},
     "output_type": "display_data"
    }
   ],
   "source": [
    "plt.figure(figsize=(10,5))\n",
    "plt.subplot(211)\n",
    "datasetnew.hist(ax=plt.gca())\n",
    "plt.subplot(212)\n",
    "datasetnew.plot(kind='kde', ax=plt.gca())\n",
    "plt.show()"
   ]
  },
  {
   "cell_type": "markdown",
   "metadata": {},
   "source": [
    "#### Analysis (Density Plot):\n",
    "1. The first plot suggest that the data is close to gaussian but not perfect gaussian.\n",
    "2. The second plot suggest that the data is exponential distributed and will require power transform to be applied to it."
   ]
  },
  {
   "cell_type": "markdown",
   "metadata": {},
   "source": [
    "Selain mendapatkan insight dari Line Plot, kita juga dapat melihat insight lain dari density plot, yaitu sebaran data. Dapat dikatakan data yang kita miliki menyebar normal. "
   ]
  },
  {
   "cell_type": "markdown",
   "metadata": {},
   "source": [
    "### 4. Group the annual data by decade and get an idea of the spread of observations for each decade and how this may be changing."
   ]
  },
  {
   "cell_type": "code",
   "execution_count": 77,
   "metadata": {},
   "outputs": [],
   "source": [
    "# grouping annual data by decade \n",
    "datad1=datasetnew[0:10]\n",
    "datad2=datasetnew[10:20]\n",
    "datad3=datasetnew[20:30]\n",
    "datad4=datasetnew[30:40]\n",
    "datad5=datasetnew[40:50]\n",
    "datad6=datasetnew[50:60]\n",
    "datad7=datasetnew[60:70]"
   ]
  },
  {
   "cell_type": "code",
   "execution_count": 79,
   "metadata": {},
   "outputs": [
    {
     "name": "stderr",
     "output_type": "stream",
     "text": [
      "C:\\Users\\dwilar064174\\AppData\\Local\\Continuum\\anaconda3\\lib\\site-packages\\ipykernel_launcher.py:1: SettingWithCopyWarning: \n",
      "A value is trying to be set on a copy of a slice from a DataFrame.\n",
      "Try using .loc[row_indexer,col_indexer] = value instead\n",
      "\n",
      "See the caveats in the documentation: http://pandas.pydata.org/pandas-docs/stable/indexing.html#indexing-view-versus-copy\n",
      "  \"\"\"Entry point for launching an IPython kernel.\n",
      "C:\\Users\\dwilar064174\\AppData\\Local\\Continuum\\anaconda3\\lib\\site-packages\\ipykernel_launcher.py:2: SettingWithCopyWarning: \n",
      "A value is trying to be set on a copy of a slice from a DataFrame.\n",
      "Try using .loc[row_indexer,col_indexer] = value instead\n",
      "\n",
      "See the caveats in the documentation: http://pandas.pydata.org/pandas-docs/stable/indexing.html#indexing-view-versus-copy\n",
      "  \n",
      "C:\\Users\\dwilar064174\\AppData\\Local\\Continuum\\anaconda3\\lib\\site-packages\\ipykernel_launcher.py:3: SettingWithCopyWarning: \n",
      "A value is trying to be set on a copy of a slice from a DataFrame.\n",
      "Try using .loc[row_indexer,col_indexer] = value instead\n",
      "\n",
      "See the caveats in the documentation: http://pandas.pydata.org/pandas-docs/stable/indexing.html#indexing-view-versus-copy\n",
      "  This is separate from the ipykernel package so we can avoid doing imports until\n",
      "C:\\Users\\dwilar064174\\AppData\\Local\\Continuum\\anaconda3\\lib\\site-packages\\ipykernel_launcher.py:4: SettingWithCopyWarning: \n",
      "A value is trying to be set on a copy of a slice from a DataFrame.\n",
      "Try using .loc[row_indexer,col_indexer] = value instead\n",
      "\n",
      "See the caveats in the documentation: http://pandas.pydata.org/pandas-docs/stable/indexing.html#indexing-view-versus-copy\n",
      "  after removing the cwd from sys.path.\n",
      "C:\\Users\\dwilar064174\\AppData\\Local\\Continuum\\anaconda3\\lib\\site-packages\\ipykernel_launcher.py:5: SettingWithCopyWarning: \n",
      "A value is trying to be set on a copy of a slice from a DataFrame.\n",
      "Try using .loc[row_indexer,col_indexer] = value instead\n",
      "\n",
      "See the caveats in the documentation: http://pandas.pydata.org/pandas-docs/stable/indexing.html#indexing-view-versus-copy\n",
      "  \"\"\"\n",
      "C:\\Users\\dwilar064174\\AppData\\Local\\Continuum\\anaconda3\\lib\\site-packages\\ipykernel_launcher.py:6: SettingWithCopyWarning: \n",
      "A value is trying to be set on a copy of a slice from a DataFrame.\n",
      "Try using .loc[row_indexer,col_indexer] = value instead\n",
      "\n",
      "See the caveats in the documentation: http://pandas.pydata.org/pandas-docs/stable/indexing.html#indexing-view-versus-copy\n",
      "  \n",
      "C:\\Users\\dwilar064174\\AppData\\Local\\Continuum\\anaconda3\\lib\\site-packages\\ipykernel_launcher.py:7: SettingWithCopyWarning: \n",
      "A value is trying to be set on a copy of a slice from a DataFrame.\n",
      "Try using .loc[row_indexer,col_indexer] = value instead\n",
      "\n",
      "See the caveats in the documentation: http://pandas.pydata.org/pandas-docs/stable/indexing.html#indexing-view-versus-copy\n",
      "  import sys\n"
     ]
    }
   ],
   "source": [
    "# making a new column indicate the decade\n",
    "datad1['decade']='1885-1894'\n",
    "datad2['decade']='1895-1904'\n",
    "datad3['decade']='1905-1914'\n",
    "datad4['decade']='1915-1924'\n",
    "datad5['decade']='1925-1934'\n",
    "datad6['decade']='1935-1944'\n",
    "datad7['decade']='1945-1954'\n"
   ]
  },
  {
   "cell_type": "code",
   "execution_count": 80,
   "metadata": {},
   "outputs": [],
   "source": [
    "databoxplot=pd.concat([datad1,datad2,datad3,datad4,datad5, datad6,datad7])"
   ]
  },
  {
   "cell_type": "code",
   "execution_count": 86,
   "metadata": {
    "scrolled": true
   },
   "outputs": [
    {
     "data": {
      "text/plain": [
       "<matplotlib.axes._subplots.AxesSubplot at 0x28890fd3978>"
      ]
     },
     "execution_count": 86,
     "metadata": {},
     "output_type": "execute_result"
    },
    {
     "data": {
      "image/png": "[encoded data removed]",
      "text/plain": [
       "<matplotlib.figure.Figure at 0x28890fd3a20>"
      ]
     },
     "metadata": {},
     "output_type": "display_data"
    }
   ],
   "source": [
    "#making box plot from decade data \n",
    "import seaborn as sns\n",
    "plt.figure(figsize=(10,7))\n",
    "sns.boxplot(y=databoxplot['Water'],x=databoxplot['decade'])\n"
   ]
  },
  {
   "cell_type": "markdown",
   "metadata": {},
   "source": [
    "**Insights** : \n",
    "- Dilihat dari box plot berdasarkan dekade,  pemakaian air naik pada 1885 - 1924. Pada rentang tersebut, terdapat pemakaian air yang sangat besar pada dekade 1905-1914. \n",
    "- Lalu, secara general pemakaian air kembali turun pada dekade 1925-1934, dan terus menaik untuk dekade selanjutnya. "
   ]
  },
  {
   "cell_type": "markdown",
   "metadata": {},
   "source": [
    "### 5. Create models using ARIMA \n",
    "    - Split the dataset into train and test sets directly \n",
    "    - The ﬁrst 50% of the dataset will be held back to train the model.\n",
    "    - The remaining 50% of the dataset will be iterated and test the model. \n",
    "    - The ARIMA(p,d,q) model requires three parameters and is traditionally conﬁgured manually. \n",
    "    - Use an ARIMA(0,1,0) on the raw data may be a good starting point. \n",
    "    - When model trained, a one-step prediction made ang the prediction stored for later evaluation. \n",
    "    - The actual observation from the test dataset woll be added to the training dataset for the next iteration. \n",
    "    - The predictions made during the enumeration of the test dataset will be evaluated and an RMSE score reported. "
   ]
  },
  {
   "cell_type": "code",
   "execution_count": 94,
   "metadata": {},
   "outputs": [],
   "source": [
    "# split data into training set and validation set\n",
    "# Training_data consists of data from 1885 to 1918\n",
    "# Validaion_data consists of data from 1919 to 1953\n",
    "\n",
    "train_dataset, test_dataset = datasetnew[0:len(datasetnew)-35].values, datasetnew[len(datasetnew)-35:].values"
   ]
  },
  {
   "cell_type": "markdown",
   "metadata": {},
   "source": [
    "### Stationarity test"
   ]
  },
  {
   "cell_type": "code",
   "execution_count": 99,
   "metadata": {},
   "outputs": [
    {
     "name": "stdout",
     "output_type": "stream",
     "text": [
      "p-value 0.18\n"
     ]
    }
   ],
   "source": [
    "adf_result = adfuller(np.concatenate(datasetnew.values.astype('float32')))\n",
    "print('p-value %.2f' % (adf_result[1]) )"
   ]
  },
  {
   "cell_type": "markdown",
   "metadata": {},
   "source": [
    "#### Analysis (ADF test):\n",
    "Following observation can be made from above p-value : <br>\n",
    "Given p-value of 0.18 seems like null hypothesis is accepted meaning that the data is not stationary and ARIMA model assumes data to be stationary, lets first make it stationary and then do ADF test"
   ]
  },
  {
   "cell_type": "code",
   "execution_count": 100,
   "metadata": {},
   "outputs": [
    {
     "name": "stdout",
     "output_type": "stream",
     "text": [
      "p-value after differencing : 0.0000000859\n"
     ]
    }
   ],
   "source": [
    "adf_data = datasetnew.values\n",
    "adf_post_diff = adfuller(np.concatenate([adf_data[i] - adf_data[i-1] for i in range(1,len(adf_data))]))\n",
    "print('p-value after differencing : %.10f' % (adf_post_diff[1]))"
   ]
  },
  {
   "cell_type": "markdown",
   "metadata": {},
   "source": [
    "#### Analysis (Post differencing):\n",
    "Following observation can be made from above p-value : <br>\n",
    "Given p-value of 0.0000000859 seems like null hypothesis is rejected meaning that the data is stationary and we can model ARIMA on it, suggesting 1-level differencing is required."
   ]
  },
  {
   "cell_type": "markdown",
   "metadata": {},
   "source": [
    "### Find AR-MA parameters of ARIMA model using ACF and PACF plot"
   ]
  },
  {
   "cell_type": "code",
   "execution_count": 96,
   "metadata": {},
   "outputs": [
    {
     "data": {
      "image/png": "[encoded data removed]",
      "text/plain": [
       "<matplotlib.figure.Figure at 0x28891717c18>"
      ]
     },
     "metadata": {},
     "output_type": "display_data"
    }
   ],
   "source": [
    "from statsmodels.graphics.tsaplots import plot_acf, plot_pacf\n",
    "\n",
    "plt.figure(figsize=(10,8))\n",
    "plt.subplot(211)\n",
    "plot_acf(datasetnew, ax=plt.gca())\n",
    "plt.subplot(212)\n",
    "plot_pacf(datasetnew, ax=plt.gca())\n",
    "plt.show()"
   ]
  },
  {
   "cell_type": "markdown",
   "metadata": {},
   "source": [
    "### Analysis (ACF And PACF):\n",
    "\n",
    "Following observations can be made from above plots : <br>\n",
    "\n",
    "1. Dari ACF plot, kita dapatkan bahwa data kita bukanlah seasonal data. Sehingga nilai q seharusnya bukanlah 0. \n",
    "2. Dari PACF plot, nilai lag nya adalah 1 sehingga kita dapatkan nilai p=1\n",
    "3. Since, from the previous differencing part we found that d=1 makes the time series stationary, hence will take value of d=1.  <br>"
   ]
  },
  {
   "cell_type": "markdown",
   "metadata": {},
   "source": [
    "### Persistence Model With Walk Forward Validation (Baseline RMSE)"
   ]
  },
  {
   "cell_type": "code",
   "execution_count": 102,
   "metadata": {
    "scrolled": true
   },
   "outputs": [
    {
     "name": "stdout",
     "output_type": "stream",
     "text": [
      "Predicted : 503.00  Actual: 503.00\n",
      "Predicted : 503.00  Actual: 503.00\n",
      "Predicted : 503.00  Actual: 515.00\n",
      "Predicted : 515.00  Actual: 522.00\n",
      "Predicted : 522.00  Actual: 492.00\n",
      "Predicted : 492.00  Actual: 503.00\n",
      "Predicted : 503.00  Actual: 503.00\n",
      "Predicted : 503.00  Actual: 450.00\n",
      "Predicted : 450.00  Actual: 432.00\n",
      "Predicted : 432.00  Actual: 432.00\n",
      "Predicted : 432.00  Actual: 458.00\n",
      "Predicted : 458.00  Actual: 462.00\n",
      "Predicted : 462.00  Actual: 503.00\n",
      "Predicted : 503.00  Actual: 488.00\n",
      "Predicted : 488.00  Actual: 466.00\n",
      "Predicted : 466.00  Actual: 492.00\n",
      "Predicted : 492.00  Actual: 503.00\n",
      "Predicted : 503.00  Actual: 515.00\n",
      "Predicted : 515.00  Actual: 500.00\n",
      "Predicted : 500.00  Actual: 522.00\n",
      "Predicted : 522.00  Actual: 575.00\n",
      "Predicted : 575.00  Actual: 583.00\n",
      "Predicted : 583.00  Actual: 587.00\n",
      "Predicted : 587.00  Actual: 628.00\n",
      "Predicted : 628.00  Actual: 640.00\n",
      "Predicted : 640.00  Actual: 609.00\n",
      "Predicted : 609.00  Actual: 606.00\n",
      "Predicted : 606.00  Actual: 632.00\n",
      "Predicted : 632.00  Actual: 617.00\n",
      "Predicted : 617.00  Actual: 613.00\n",
      "Predicted : 613.00  Actual: 598.00\n",
      "Predicted : 598.00  Actual: 575.00\n",
      "Predicted : 575.00  Actual: 564.00\n",
      "Predicted : 564.00  Actual: 549.00\n",
      "Predicted : 549.00  Actual: 538.00\n",
      "Baseline RMSE : 21.97\n"
     ]
    }
   ],
   "source": [
    "import math\n",
    "from sklearn.metrics import mean_squared_error\n",
    "\n",
    "def persistence_model(ps_tr_datanew, ps_val_datanew):\n",
    "    \n",
    "    history = [i for i in ps_tr_datanew]\n",
    "    predictions = []\n",
    "    \n",
    "    for i in range(len(ps_val_datanew)):\n",
    "        \n",
    "        # Get predictions\n",
    "        y_pred = history[-1]\n",
    "        predictions.append(y_pred)\n",
    "        \n",
    "        #  Get actual\n",
    "        history.append(ps_val_datanew[i])\n",
    "        \n",
    "        print('Predicted : %.2f  Actual: %.2f' % (y_pred, ps_val_datanew[i]))\n",
    "        \n",
    "    print('Baseline RMSE : %.2f' % (math.sqrt(mean_squared_error(ps_val_datanew, predictions))))\n",
    "\n",
    "# Persistence model\n",
    "persistence_model(train_dataset, test_dataset)"
   ]
  },
  {
   "cell_type": "markdown",
   "metadata": {},
   "source": [
    "### Analysis (Persistance Model):\n",
    "Got RMSE value of 21.97 which will act as a baseline value for improvement of ARIMA model."
   ]
  },
  {
   "cell_type": "markdown",
   "metadata": {},
   "source": [
    "### Use an ARIMA(0,1,0)"
   ]
  },
  {
   "cell_type": "code",
   "execution_count": 112,
   "metadata": {},
   "outputs": [],
   "source": [
    "train_dataset=train_dataset.astype(float);\n",
    "test_dataset=test_dataset.astype(float);"
   ]
  },
  {
   "cell_type": "code",
   "execution_count": 126,
   "metadata": {},
   "outputs": [],
   "source": [
    "def arima_obs(tr_ao, vl_ao, order):\n",
    "    \n",
    "    history = [i for i in tr_ao]\n",
    "    predictions = []\n",
    "    \n",
    "    for i in range(len(vl_ao)):\n",
    "        \n",
    "        # get predictions\n",
    "        fitted_model = ARIMA(history, order=order).fit(disp=0)\n",
    "        y_pred = fitted_model.forecast()[0]\n",
    "        predictions.append(y_pred)\n",
    "        \n",
    "        # append history values\n",
    "        history.append(vl_ao[i])\n",
    "        \n",
    "        print('Predicted: %.2f Actual: %.2f' % (y_pred, vl_ao[i]))\n",
    "        \n",
    "    print('\\nRMSE: %.2f with ARIMA%s' % (math.sqrt(mean_squared_error(vl_ao, predictions)), order))\n",
    "    \n",
    "    \n",
    "    # RESIDUAL ANALYSIS\n",
    "    print('\\n\\n-----------------------------------------------RESIDUAL ANALYSIS-----------------------------------------------')\n",
    "    rsd = pd.DataFrame([vl_ao[i] - predictions[i] for i in range(len(vl_ao))])\n",
    "    \n",
    "    # plot residuals\n",
    "    plt.figure(figsize=(10,20))\n",
    "    \n",
    "    plt.subplot(511)\n",
    "    rsd.hist(ax=plt.gca())\n",
    "    plt.title('Histogram')\n",
    "    \n",
    "    plt.subplot(512)\n",
    "    rsd.plot(kind='kde', ax=plt.gca())\n",
    "    plt.title('Density Plot')\n",
    "    \n",
    "    plt.subplot(513)\n",
    "    rsd.plot(kind='line', ax=plt.gca())\n",
    "    plt.title('Line plot')\n",
    "    \n",
    "    plt.subplot(514)\n",
    "    plot_acf(rsd, ax=plt.gca())\n",
    "    \n",
    "    plt.subplot(515)\n",
    "    plot_pacf(rsd, ax=plt.gca())\n",
    "    plt.tight_layout()\n",
    "    plt.show()"
   ]
  },
  {
   "cell_type": "code",
   "execution_count": 127,
   "metadata": {},
   "outputs": [
    {
     "name": "stderr",
     "output_type": "stream",
     "text": [
      "C:\\Users\\dwilar064174\\AppData\\Local\\Continuum\\anaconda3\\lib\\site-packages\\scipy\\signal\\signaltools.py:1333: FutureWarning: Using a non-tuple sequence for multidimensional indexing is deprecated; use `arr[tuple(seq)]` instead of `arr[seq]`. In the future this will be interpreted as an array index, `arr[np.array(seq)]`, which will result either in an error or a different result.\n",
      "  out_full[ind] += zi\n",
      "C:\\Users\\dwilar064174\\AppData\\Local\\Continuum\\anaconda3\\lib\\site-packages\\scipy\\signal\\signaltools.py:1336: FutureWarning: Using a non-tuple sequence for multidimensional indexing is deprecated; use `arr[tuple(seq)]` instead of `arr[seq]`. In the future this will be interpreted as an array index, `arr[np.array(seq)]`, which will result either in an error or a different result.\n",
      "  out = out_full[ind]\n",
      "C:\\Users\\dwilar064174\\AppData\\Local\\Continuum\\anaconda3\\lib\\site-packages\\scipy\\signal\\signaltools.py:1342: FutureWarning: Using a non-tuple sequence for multidimensional indexing is deprecated; use `arr[tuple(seq)]` instead of `arr[seq]`. In the future this will be interpreted as an array index, `arr[np.array(seq)]`, which will result either in an error or a different result.\n",
      "  zf = out_full[ind]\n"
     ]
    },
    {
     "name": "stdout",
     "output_type": "stream",
     "text": [
      "Predicted: 507.45 Actual: 503.00\n",
      "Predicted: 507.32 Actual: 503.00\n",
      "Predicted: 507.20 Actual: 515.00\n",
      "Predicted: 519.42 Actual: 522.00\n",
      "Predicted: 526.49 Actual: 492.00\n",
      "Predicted: 495.58 Actual: 503.00\n",
      "Predicted: 506.77 Actual: 503.00\n",
      "Predicted: 506.68 Actual: 450.00\n",
      "Predicted: 452.29 Actual: 432.00\n",
      "Predicted: 433.81 Actual: 432.00\n",
      "Predicted: 433.77 Actual: 458.00\n",
      "Predicted: 460.32 Actual: 462.00\n",
      "Predicted: 464.36 Actual: 503.00\n",
      "Predicted: 506.20 Actual: 488.00\n",
      "Predicted: 490.81 Actual: 466.00\n",
      "Predicted: 468.29 Actual: 492.00\n",
      "Predicted: 494.78 Actual: 503.00\n",
      "Predicted: 505.94 Actual: 515.00\n",
      "Predicted: 518.12 Actual: 500.00\n",
      "Predicted: 502.77 Actual: 522.00\n",
      "Predicted: 525.13 Actual: 575.00\n",
      "Predicted: 579.06 Actual: 583.00\n",
      "Predicted: 587.13 Actual: 587.00\n",
      "Predicted: 591.12 Actual: 628.00\n",
      "Predicted: 632.77 Actual: 640.00\n",
      "Predicted: 644.90 Actual: 609.00\n",
      "Predicted: 613.29 Actual: 606.00\n",
      "Predicted: 610.17 Actual: 632.00\n",
      "Predicted: 636.52 Actual: 617.00\n",
      "Predicted: 621.21 Actual: 613.00\n",
      "Predicted: 617.08 Actual: 598.00\n",
      "Predicted: 601.78 Actual: 575.00\n",
      "Predicted: 578.37 Actual: 564.00\n",
      "Predicted: 567.15 Actual: 549.00\n",
      "Predicted: 551.88 Actual: 538.00\n",
      "\n",
      "RMSE: 22.31 with ARIMA(0, 1, 0)\n",
      "\n",
      "\n",
      "-----------------------------------------------RESIDUAL ANALYSIS-----------------------------------------------\n"
     ]
    },
    {
     "data": {
      "image/png": "[encoded data removed]",
      "text/plain": [
       "<matplotlib.figure.Figure at 0x28891c68400>"
      ]
     },
     "metadata": {},
     "output_type": "display_data"
    }
   ],
   "source": [
    "# ARIMA(0,1,0) performance\n",
    "arima_obs(train_dataset, test_dataset, (0,1,0))"
   ]
  },
  {
   "cell_type": "markdown",
   "metadata": {},
   "source": [
    "### Analysis (ARIMA(0,1,0)):\n",
    "Following observation can be made from the above ARIMA(0,1,0) <br>\n",
    "1- RMSE value of 22.31 seems almost the same performance as compared to persistence model <br>\n",
    "2- ACF and PACF show that majority of the correlation is captured by the model. <br>\n",
    "3- Observing histogram and density plots suggest applying power transform on the data to better expose the signal by removing the noise, before modelling ARIMA on the data. <br>"
   ]
  },
  {
   "cell_type": "markdown",
   "metadata": {},
   "source": [
    "### Comparing Water usage predicted from ARIMA (0,1,0) and the real Water usage in Dataset"
   ]
  },
  {
   "cell_type": "code",
   "execution_count": 140,
   "metadata": {},
   "outputs": [],
   "source": [
    "def inverse_boxcox(x_val, lm_val):\n",
    "    \n",
    "    if lm_val == 0:\n",
    "        return np.exp(x_val)\n",
    "    \n",
    "    return np.exp(np.log(lm_val * x_val + 1) / lm_val)"
   ]
  },
  {
   "cell_type": "code",
   "execution_count": 146,
   "metadata": {
    "scrolled": true
   },
   "outputs": [
    {
     "name": "stderr",
     "output_type": "stream",
     "text": [
      "C:\\Users\\dwilar064174\\AppData\\Local\\Continuum\\anaconda3\\lib\\site-packages\\scipy\\stats\\morestats.py:901: RuntimeWarning: divide by zero encountered in log\n",
      "  llf -= N / 2.0 * np.log(np.sum((y - y_mean)**2. / N, axis=0))\n",
      "C:\\Users\\dwilar064174\\AppData\\Local\\Continuum\\anaconda3\\lib\\site-packages\\scipy\\optimize\\optimize.py:2308: RuntimeWarning: invalid value encountered in true_divide\n",
      "  w = xb - ((xb - xc) * tmp2 - (xb - xa) * tmp1) / denom\n",
      "C:\\Users\\dwilar064174\\AppData\\Local\\Continuum\\anaconda3\\lib\\site-packages\\scipy\\optimize\\optimize.py:2313: RuntimeWarning: invalid value encountered in greater\n",
      "  if (w - xc) * (xb - w) > 0.0:\n",
      "C:\\Users\\dwilar064174\\AppData\\Local\\Continuum\\anaconda3\\lib\\site-packages\\scipy\\optimize\\optimize.py:2329: RuntimeWarning: invalid value encountered in greater_equal\n",
      "  elif (w - wlim)*(wlim - xc) >= 0.0:\n",
      "C:\\Users\\dwilar064174\\AppData\\Local\\Continuum\\anaconda3\\lib\\site-packages\\scipy\\optimize\\optimize.py:2333: RuntimeWarning: invalid value encountered in greater\n",
      "  elif (w - wlim)*(xc - w) > 0.0:\n",
      "C:\\Users\\dwilar064174\\AppData\\Local\\Continuum\\anaconda3\\lib\\site-packages\\scipy\\optimize\\optimize.py:1926: RuntimeWarning: invalid value encountered in subtract\n",
      "  tmp1 = (x - w) * (fx - fv)\n",
      "C:\\Users\\dwilar064174\\AppData\\Local\\Continuum\\anaconda3\\lib\\site-packages\\scipy\\optimize\\optimize.py:1927: RuntimeWarning: invalid value encountered in multiply\n",
      "  tmp2 = (x - v) * (fx - fw)\n",
      "C:\\Users\\dwilar064174\\AppData\\Local\\Continuum\\anaconda3\\lib\\site-packages\\scipy\\optimize\\optimize.py:1930: RuntimeWarning: invalid value encountered in greater\n",
      "  if (tmp2 > 0.0):\n",
      "C:\\Users\\dwilar064174\\AppData\\Local\\Continuum\\anaconda3\\lib\\site-packages\\scipy\\optimize\\optimize.py:1936: RuntimeWarning: invalid value encountered in greater\n",
      "  if ((p > tmp2 * (a - x)) and (p < tmp2 * (b - x)) and\n",
      "C:\\Users\\dwilar064174\\AppData\\Local\\Continuum\\anaconda3\\lib\\site-packages\\scipy\\optimize\\optimize.py:1928: RuntimeWarning: invalid value encountered in subtract\n",
      "  p = (x - v) * tmp2 - (x - w) * tmp1\n",
      "C:\\Users\\dwilar064174\\AppData\\Local\\Continuum\\anaconda3\\lib\\site-packages\\scipy\\optimize\\optimize.py:1927: RuntimeWarning: invalid value encountered in subtract\n",
      "  tmp2 = (x - v) * (fx - fw)\n",
      "C:\\Users\\dwilar064174\\AppData\\Local\\Continuum\\anaconda3\\lib\\site-packages\\scipy\\signal\\signaltools.py:1333: FutureWarning: Using a non-tuple sequence for multidimensional indexing is deprecated; use `arr[tuple(seq)]` instead of `arr[seq]`. In the future this will be interpreted as an array index, `arr[np.array(seq)]`, which will result either in an error or a different result.\n",
      "  out_full[ind] += zi\n",
      "C:\\Users\\dwilar064174\\AppData\\Local\\Continuum\\anaconda3\\lib\\site-packages\\scipy\\signal\\signaltools.py:1336: FutureWarning: Using a non-tuple sequence for multidimensional indexing is deprecated; use `arr[tuple(seq)]` instead of `arr[seq]`. In the future this will be interpreted as an array index, `arr[np.array(seq)]`, which will result either in an error or a different result.\n",
      "  out = out_full[ind]\n",
      "C:\\Users\\dwilar064174\\AppData\\Local\\Continuum\\anaconda3\\lib\\site-packages\\scipy\\signal\\signaltools.py:1342: FutureWarning: Using a non-tuple sequence for multidimensional indexing is deprecated; use `arr[tuple(seq)]` instead of `arr[seq]`. In the future this will be interpreted as an array index, `arr[np.array(seq)]`, which will result either in an error or a different result.\n",
      "  zf = out_full[ind]\n"
     ]
    },
    {
     "name": "stdout",
     "output_type": "stream",
     "text": [
      "Predicted: 508.45 Actual: 503.00\n",
      "Predicted: 508.65 Actual: 503.00\n",
      "Predicted: 508.40 Actual: 515.00\n",
      "Predicted: 520.66 Actual: 522.00\n",
      "Predicted: 527.68 Actual: 492.00\n",
      "Predicted: 496.33 Actual: 503.00\n",
      "Predicted: 507.77 Actual: 503.00\n",
      "Predicted: 507.67 Actual: 450.00\n",
      "Predicted: 452.60 Actual: 432.00\n",
      "Predicted: 434.02 Actual: 432.00\n",
      "Predicted: 433.99 Actual: 458.00\n",
      "Predicted: 460.71 Actual: 462.00\n",
      "Predicted: 464.77 Actual: 503.00\n",
      "Predicted: 506.91 Actual: 488.00\n",
      "Predicted: 491.36 Actual: 466.00\n",
      "Predicted: 469.29 Actual: 492.00\n",
      "Predicted: 495.31 Actual: 503.00\n",
      "Predicted: 506.51 Actual: 515.00\n",
      "Predicted: 518.72 Actual: 500.00\n",
      "Predicted: 503.24 Actual: 522.00\n",
      "Predicted: 525.68 Actual: 575.00\n",
      "Predicted: 579.93 Actual: 583.00\n",
      "Predicted: 588.03 Actual: 587.00\n",
      "Predicted: 592.02 Actual: 628.00\n",
      "Predicted: 634.15 Actual: 640.00\n",
      "Predicted: 646.58 Actual: 609.00\n",
      "Predicted: 614.61 Actual: 606.00\n",
      "Predicted: 611.40 Actual: 632.00\n",
      "Predicted: 638.03 Actual: 617.00\n",
      "Predicted: 622.51 Actual: 613.00\n",
      "Predicted: 618.27 Actual: 598.00\n",
      "Predicted: 602.75 Actual: 575.00\n",
      "Predicted: 579.09 Actual: 564.00\n",
      "Predicted: 567.73 Actual: 549.00\n",
      "Predicted: 552.33 Actual: 538.00\n",
      "RMSE: 22.53\n"
     ]
    }
   ],
   "source": [
    "history = [i for i in train_dataset]\n",
    "prediction = list()\n",
    "\n",
    "# walk forward validation model\n",
    "for i in range(len(test_dataset)):\n",
    "    \n",
    "    # remove noise\n",
    "    x_train , lm_val = boxcox(history)\n",
    "    \n",
    "    if lm_val < -5 :\n",
    "        x_train , lm_val = history, 1\n",
    "        \n",
    "    # Fit model and get predictions\n",
    "    model_fitted = ARIMA(x_train, order=(0,1,0)).fit(disp=0)\n",
    "    y_pred = inverse_boxcox(model_fitted.forecast()[0], lm_val)    \n",
    "    prediction.append(y_pred)\n",
    "    \n",
    "    # Append history\n",
    "    history.append(test_dataset[i])\n",
    "    \n",
    "    print('Predicted: %.2f Actual: %.2f' % (y_pred, test_dataset[i]))\n",
    "    \n",
    "print('RMSE: %.2f' % (math.sqrt(mean_squared_error(test_dataset, prediction))))"
   ]
  },
  {
   "cell_type": "code",
   "execution_count": 172,
   "metadata": {
    "scrolled": false
   },
   "outputs": [
    {
     "data": {
      "image/png": "[encoded data removed]",
      "text/plain": [
       "<matplotlib.figure.Figure at 0x288920420f0>"
      ]
     },
     "metadata": {},
     "output_type": "display_data"
    }
   ],
   "source": [
    "plt.figure(figsize=(15,4))\n",
    "plt.plot(test_dataset, label='True')\n",
    "plt.plot(prediction, label='Predicted')\n",
    "plt.xticks(np.linspace(0, 35, 35), datasetnew[len(datasetnew)-35:].index, rotation=90 )\n",
    "plt.ylabel('Water')\n",
    "plt.xlabel('Time')\n",
    "plt.legend()\n",
    "plt.title('Results for ARIMA(0,1,0)')\n",
    "plt.show()\n"
   ]
  },
  {
   "cell_type": "markdown",
   "metadata": {},
   "source": [
    "### Use an ARIMA(5,1,0)"
   ]
  },
  {
   "cell_type": "code",
   "execution_count": 187,
   "metadata": {},
   "outputs": [
    {
     "name": "stderr",
     "output_type": "stream",
     "text": [
      "C:\\Users\\dwilar064174\\AppData\\Local\\Continuum\\anaconda3\\lib\\site-packages\\scipy\\stats\\morestats.py:901: RuntimeWarning: divide by zero encountered in log\n",
      "  llf -= N / 2.0 * np.log(np.sum((y - y_mean)**2. / N, axis=0))\n",
      "C:\\Users\\dwilar064174\\AppData\\Local\\Continuum\\anaconda3\\lib\\site-packages\\scipy\\optimize\\optimize.py:2308: RuntimeWarning: invalid value encountered in true_divide\n",
      "  w = xb - ((xb - xc) * tmp2 - (xb - xa) * tmp1) / denom\n",
      "C:\\Users\\dwilar064174\\AppData\\Local\\Continuum\\anaconda3\\lib\\site-packages\\scipy\\optimize\\optimize.py:2313: RuntimeWarning: invalid value encountered in greater\n",
      "  if (w - xc) * (xb - w) > 0.0:\n",
      "C:\\Users\\dwilar064174\\AppData\\Local\\Continuum\\anaconda3\\lib\\site-packages\\scipy\\optimize\\optimize.py:2329: RuntimeWarning: invalid value encountered in greater_equal\n",
      "  elif (w - wlim)*(wlim - xc) >= 0.0:\n",
      "C:\\Users\\dwilar064174\\AppData\\Local\\Continuum\\anaconda3\\lib\\site-packages\\scipy\\optimize\\optimize.py:2333: RuntimeWarning: invalid value encountered in greater\n",
      "  elif (w - wlim)*(xc - w) > 0.0:\n",
      "C:\\Users\\dwilar064174\\AppData\\Local\\Continuum\\anaconda3\\lib\\site-packages\\scipy\\optimize\\optimize.py:1926: RuntimeWarning: invalid value encountered in subtract\n",
      "  tmp1 = (x - w) * (fx - fv)\n",
      "C:\\Users\\dwilar064174\\AppData\\Local\\Continuum\\anaconda3\\lib\\site-packages\\scipy\\optimize\\optimize.py:1927: RuntimeWarning: invalid value encountered in multiply\n",
      "  tmp2 = (x - v) * (fx - fw)\n",
      "C:\\Users\\dwilar064174\\AppData\\Local\\Continuum\\anaconda3\\lib\\site-packages\\scipy\\optimize\\optimize.py:1930: RuntimeWarning: invalid value encountered in greater\n",
      "  if (tmp2 > 0.0):\n",
      "C:\\Users\\dwilar064174\\AppData\\Local\\Continuum\\anaconda3\\lib\\site-packages\\scipy\\optimize\\optimize.py:1936: RuntimeWarning: invalid value encountered in greater\n",
      "  if ((p > tmp2 * (a - x)) and (p < tmp2 * (b - x)) and\n",
      "C:\\Users\\dwilar064174\\AppData\\Local\\Continuum\\anaconda3\\lib\\site-packages\\scipy\\optimize\\optimize.py:1928: RuntimeWarning: invalid value encountered in subtract\n",
      "  p = (x - v) * tmp2 - (x - w) * tmp1\n",
      "C:\\Users\\dwilar064174\\AppData\\Local\\Continuum\\anaconda3\\lib\\site-packages\\scipy\\optimize\\optimize.py:1927: RuntimeWarning: invalid value encountered in subtract\n",
      "  tmp2 = (x - v) * (fx - fw)\n",
      "C:\\Users\\dwilar064174\\AppData\\Local\\Continuum\\anaconda3\\lib\\site-packages\\scipy\\signal\\signaltools.py:1333: FutureWarning: Using a non-tuple sequence for multidimensional indexing is deprecated; use `arr[tuple(seq)]` instead of `arr[seq]`. In the future this will be interpreted as an array index, `arr[np.array(seq)]`, which will result either in an error or a different result.\n",
      "  out_full[ind] += zi\n",
      "C:\\Users\\dwilar064174\\AppData\\Local\\Continuum\\anaconda3\\lib\\site-packages\\scipy\\signal\\signaltools.py:1336: FutureWarning: Using a non-tuple sequence for multidimensional indexing is deprecated; use `arr[tuple(seq)]` instead of `arr[seq]`. In the future this will be interpreted as an array index, `arr[np.array(seq)]`, which will result either in an error or a different result.\n",
      "  out = out_full[ind]\n",
      "C:\\Users\\dwilar064174\\AppData\\Local\\Continuum\\anaconda3\\lib\\site-packages\\scipy\\signal\\signaltools.py:1342: FutureWarning: Using a non-tuple sequence for multidimensional indexing is deprecated; use `arr[tuple(seq)]` instead of `arr[seq]`. In the future this will be interpreted as an array index, `arr[np.array(seq)]`, which will result either in an error or a different result.\n",
      "  zf = out_full[ind]\n",
      "C:\\Users\\dwilar064174\\AppData\\Local\\Continuum\\anaconda3\\lib\\site-packages\\statsmodels\\tsa\\kalmanf\\kalmanfilter.py:646: FutureWarning: Conversion of the second argument of issubdtype from `float` to `np.floating` is deprecated. In future, it will be treated as `np.float64 == np.dtype(float).type`.\n",
      "  if issubdtype(paramsdtype, float):\n",
      "C:\\Users\\dwilar064174\\AppData\\Local\\Continuum\\anaconda3\\lib\\site-packages\\statsmodels\\tsa\\kalmanf\\kalmanfilter.py:650: FutureWarning: Conversion of the second argument of issubdtype from `complex` to `np.complexfloating` is deprecated. In future, it will be treated as `np.complex128 == np.dtype(complex).type`.\n",
      "  elif issubdtype(paramsdtype, complex):\n",
      "C:\\Users\\dwilar064174\\AppData\\Local\\Continuum\\anaconda3\\lib\\site-packages\\statsmodels\\tsa\\kalmanf\\kalmanfilter.py:577: FutureWarning: Conversion of the second argument of issubdtype from `float` to `np.floating` is deprecated. In future, it will be treated as `np.float64 == np.dtype(float).type`.\n",
      "  if issubdtype(paramsdtype, float):\n"
     ]
    },
    {
     "name": "stdout",
     "output_type": "stream",
     "text": [
      "Predicted: 564.85 Actual: 503.00\n"
     ]
    },
    {
     "name": "stderr",
     "output_type": "stream",
     "text": [
      "C:\\Users\\dwilar064174\\AppData\\Local\\Continuum\\anaconda3\\lib\\site-packages\\statsmodels\\base\\model.py:496: ConvergenceWarning: Maximum Likelihood optimization failed to converge. Check mle_retvals\n",
      "  \"Check mle_retvals\", ConvergenceWarning)\n"
     ]
    },
    {
     "name": "stdout",
     "output_type": "stream",
     "text": [
      "Predicted: 530.67 Actual: 503.00\n"
     ]
    },
    {
     "name": "stderr",
     "output_type": "stream",
     "text": [
      "C:\\Users\\dwilar064174\\AppData\\Local\\Continuum\\anaconda3\\lib\\site-packages\\statsmodels\\base\\model.py:496: ConvergenceWarning: Maximum Likelihood optimization failed to converge. Check mle_retvals\n",
      "  \"Check mle_retvals\", ConvergenceWarning)\n"
     ]
    },
    {
     "name": "stdout",
     "output_type": "stream",
     "text": [
      "Predicted: 521.72 Actual: 515.00\n"
     ]
    },
    {
     "name": "stderr",
     "output_type": "stream",
     "text": [
      "C:\\Users\\dwilar064174\\AppData\\Local\\Continuum\\anaconda3\\lib\\site-packages\\statsmodels\\base\\model.py:496: ConvergenceWarning: Maximum Likelihood optimization failed to converge. Check mle_retvals\n",
      "  \"Check mle_retvals\", ConvergenceWarning)\n"
     ]
    },
    {
     "name": "stdout",
     "output_type": "stream",
     "text": [
      "Predicted: 525.03 Actual: 522.00\n",
      "Predicted: 529.73 Actual: 492.00\n"
     ]
    },
    {
     "name": "stderr",
     "output_type": "stream",
     "text": [
      "C:\\Users\\dwilar064174\\AppData\\Local\\Continuum\\anaconda3\\lib\\site-packages\\statsmodels\\base\\model.py:496: ConvergenceWarning: Maximum Likelihood optimization failed to converge. Check mle_retvals\n",
      "  \"Check mle_retvals\", ConvergenceWarning)\n"
     ]
    },
    {
     "name": "stdout",
     "output_type": "stream",
     "text": [
      "Predicted: 500.66 Actual: 503.00\n",
      "Predicted: 509.37 Actual: 503.00\n",
      "Predicted: 517.24 Actual: 450.00\n",
      "Predicted: 464.84 Actual: 432.00\n",
      "Predicted: 442.03 Actual: 432.00\n",
      "Predicted: 450.91 Actual: 458.00\n"
     ]
    },
    {
     "name": "stderr",
     "output_type": "stream",
     "text": [
      "C:\\Users\\dwilar064174\\AppData\\Local\\Continuum\\anaconda3\\lib\\site-packages\\statsmodels\\base\\model.py:496: ConvergenceWarning: Maximum Likelihood optimization failed to converge. Check mle_retvals\n",
      "  \"Check mle_retvals\", ConvergenceWarning)\n"
     ]
    },
    {
     "name": "stdout",
     "output_type": "stream",
     "text": [
      "Predicted: 469.89 Actual: 462.00\n",
      "Predicted: 466.78 Actual: 503.00\n"
     ]
    },
    {
     "name": "stderr",
     "output_type": "stream",
     "text": [
      "C:\\Users\\dwilar064174\\AppData\\Local\\Continuum\\anaconda3\\lib\\site-packages\\statsmodels\\base\\model.py:496: ConvergenceWarning: Maximum Likelihood optimization failed to converge. Check mle_retvals\n",
      "  \"Check mle_retvals\", ConvergenceWarning)\n"
     ]
    },
    {
     "name": "stdout",
     "output_type": "stream",
     "text": [
      "Predicted: 492.85 Actual: 488.00\n",
      "Predicted: 486.97 Actual: 466.00\n",
      "Predicted: 457.61 Actual: 492.00\n",
      "Predicted: 492.90 Actual: 503.00\n",
      "Predicted: 510.96 Actual: 515.00\n",
      "Predicted: 512.91 Actual: 500.00\n",
      "Predicted: 500.18 Actual: 522.00\n",
      "Predicted: 519.23 Actual: 575.00\n",
      "Predicted: 576.09 Actual: 583.00\n",
      "Predicted: 577.92 Actual: 587.00\n",
      "Predicted: 574.70 Actual: 628.00\n",
      "Predicted: 622.65 Actual: 640.00\n",
      "Predicted: 641.04 Actual: 609.00\n",
      "Predicted: 608.40 Actual: 606.00\n",
      "Predicted: 610.52 Actual: 632.00\n",
      "Predicted: 643.77 Actual: 617.00\n",
      "Predicted: 627.79 Actual: 613.00\n",
      "Predicted: 618.23 Actual: 598.00\n",
      "Predicted: 609.54 Actual: 575.00\n",
      "Predicted: 585.94 Actual: 564.00\n",
      "Predicted: 577.55 Actual: 549.00\n",
      "Predicted: 562.55 Actual: 538.00\n",
      "RMSE: 28.26\n"
     ]
    }
   ],
   "source": [
    "history = [i for i in train_dataset]\n",
    "prediction = list()\n",
    "\n",
    "# walk forward validation model\n",
    "for i in range(len(test_dataset)):\n",
    "    \n",
    "    # remove noise\n",
    "    x_train , lm_val = boxcox(history)\n",
    "    \n",
    "    if lm_val < -5 :\n",
    "        x_train , lm_val = history, 1\n",
    "        \n",
    "    # Fit model and get predictions\n",
    "    model_fitted = ARIMA(x_train, order=(5,1,0)).fit(disp=0)\n",
    "    y_pred = inverse_boxcox(model_fitted.forecast()[0], lm_val)    \n",
    "    prediction.append(y_pred)\n",
    "    \n",
    "    # Append history\n",
    "    history.append(test_dataset[i])\n",
    "    \n",
    "    print('Predicted: %.2f Actual: %.2f' % (y_pred, test_dataset[i]))\n",
    "    \n",
    "print('RMSE: %.2f' % (math.sqrt(mean_squared_error(test_dataset, prediction))))"
   ]
  },
  {
   "cell_type": "markdown",
   "metadata": {},
   "source": [
    "### Analysis (ARIMA(5,1,0)):\n",
    "Following observation can be made from the above ARIMA(5,1,0) <br>\n",
    "RMSE value of 28.26 seems worse performance as compared to persistence model and ARIMA (0,1,0) <br>"
   ]
  },
  {
   "cell_type": "markdown",
   "metadata": {},
   "source": [
    "### Use an ARIMA(7,1,0)"
   ]
  },
  {
   "cell_type": "code",
   "execution_count": 192,
   "metadata": {},
   "outputs": [
    {
     "name": "stderr",
     "output_type": "stream",
     "text": [
      "C:\\Users\\dwilar064174\\AppData\\Local\\Continuum\\anaconda3\\lib\\site-packages\\scipy\\stats\\morestats.py:901: RuntimeWarning: divide by zero encountered in log\n",
      "  llf -= N / 2.0 * np.log(np.sum((y - y_mean)**2. / N, axis=0))\n",
      "C:\\Users\\dwilar064174\\AppData\\Local\\Continuum\\anaconda3\\lib\\site-packages\\scipy\\optimize\\optimize.py:2308: RuntimeWarning: invalid value encountered in true_divide\n",
      "  w = xb - ((xb - xc) * tmp2 - (xb - xa) * tmp1) / denom\n",
      "C:\\Users\\dwilar064174\\AppData\\Local\\Continuum\\anaconda3\\lib\\site-packages\\scipy\\optimize\\optimize.py:2313: RuntimeWarning: invalid value encountered in greater\n",
      "  if (w - xc) * (xb - w) > 0.0:\n",
      "C:\\Users\\dwilar064174\\AppData\\Local\\Continuum\\anaconda3\\lib\\site-packages\\scipy\\optimize\\optimize.py:2329: RuntimeWarning: invalid value encountered in greater_equal\n",
      "  elif (w - wlim)*(wlim - xc) >= 0.0:\n",
      "C:\\Users\\dwilar064174\\AppData\\Local\\Continuum\\anaconda3\\lib\\site-packages\\scipy\\optimize\\optimize.py:2333: RuntimeWarning: invalid value encountered in greater\n",
      "  elif (w - wlim)*(xc - w) > 0.0:\n",
      "C:\\Users\\dwilar064174\\AppData\\Local\\Continuum\\anaconda3\\lib\\site-packages\\scipy\\optimize\\optimize.py:1926: RuntimeWarning: invalid value encountered in subtract\n",
      "  tmp1 = (x - w) * (fx - fv)\n",
      "C:\\Users\\dwilar064174\\AppData\\Local\\Continuum\\anaconda3\\lib\\site-packages\\scipy\\optimize\\optimize.py:1927: RuntimeWarning: invalid value encountered in multiply\n",
      "  tmp2 = (x - v) * (fx - fw)\n",
      "C:\\Users\\dwilar064174\\AppData\\Local\\Continuum\\anaconda3\\lib\\site-packages\\scipy\\optimize\\optimize.py:1930: RuntimeWarning: invalid value encountered in greater\n",
      "  if (tmp2 > 0.0):\n",
      "C:\\Users\\dwilar064174\\AppData\\Local\\Continuum\\anaconda3\\lib\\site-packages\\scipy\\optimize\\optimize.py:1936: RuntimeWarning: invalid value encountered in greater\n",
      "  if ((p > tmp2 * (a - x)) and (p < tmp2 * (b - x)) and\n",
      "C:\\Users\\dwilar064174\\AppData\\Local\\Continuum\\anaconda3\\lib\\site-packages\\scipy\\optimize\\optimize.py:1928: RuntimeWarning: invalid value encountered in subtract\n",
      "  p = (x - v) * tmp2 - (x - w) * tmp1\n",
      "C:\\Users\\dwilar064174\\AppData\\Local\\Continuum\\anaconda3\\lib\\site-packages\\scipy\\optimize\\optimize.py:1927: RuntimeWarning: invalid value encountered in subtract\n",
      "  tmp2 = (x - v) * (fx - fw)\n",
      "C:\\Users\\dwilar064174\\AppData\\Local\\Continuum\\anaconda3\\lib\\site-packages\\scipy\\signal\\signaltools.py:1333: FutureWarning: Using a non-tuple sequence for multidimensional indexing is deprecated; use `arr[tuple(seq)]` instead of `arr[seq]`. In the future this will be interpreted as an array index, `arr[np.array(seq)]`, which will result either in an error or a different result.\n",
      "  out_full[ind] += zi\n",
      "C:\\Users\\dwilar064174\\AppData\\Local\\Continuum\\anaconda3\\lib\\site-packages\\scipy\\signal\\signaltools.py:1336: FutureWarning: Using a non-tuple sequence for multidimensional indexing is deprecated; use `arr[tuple(seq)]` instead of `arr[seq]`. In the future this will be interpreted as an array index, `arr[np.array(seq)]`, which will result either in an error or a different result.\n",
      "  out = out_full[ind]\n",
      "C:\\Users\\dwilar064174\\AppData\\Local\\Continuum\\anaconda3\\lib\\site-packages\\scipy\\signal\\signaltools.py:1342: FutureWarning: Using a non-tuple sequence for multidimensional indexing is deprecated; use `arr[tuple(seq)]` instead of `arr[seq]`. In the future this will be interpreted as an array index, `arr[np.array(seq)]`, which will result either in an error or a different result.\n",
      "  zf = out_full[ind]\n",
      "C:\\Users\\dwilar064174\\AppData\\Local\\Continuum\\anaconda3\\lib\\site-packages\\statsmodels\\tsa\\kalmanf\\kalmanfilter.py:646: FutureWarning: Conversion of the second argument of issubdtype from `float` to `np.floating` is deprecated. In future, it will be treated as `np.float64 == np.dtype(float).type`.\n",
      "  if issubdtype(paramsdtype, float):\n",
      "C:\\Users\\dwilar064174\\AppData\\Local\\Continuum\\anaconda3\\lib\\site-packages\\statsmodels\\tsa\\kalmanf\\kalmanfilter.py:650: FutureWarning: Conversion of the second argument of issubdtype from `complex` to `np.complexfloating` is deprecated. In future, it will be treated as `np.complex128 == np.dtype(complex).type`.\n",
      "  elif issubdtype(paramsdtype, complex):\n",
      "C:\\Users\\dwilar064174\\AppData\\Local\\Continuum\\anaconda3\\lib\\site-packages\\statsmodels\\tsa\\kalmanf\\kalmanfilter.py:577: FutureWarning: Conversion of the second argument of issubdtype from `float` to `np.floating` is deprecated. In future, it will be treated as `np.float64 == np.dtype(float).type`.\n",
      "  if issubdtype(paramsdtype, float):\n"
     ]
    },
    {
     "name": "stdout",
     "output_type": "stream",
     "text": [
      "Predicted: 535.48 Actual: 503.00\n"
     ]
    },
    {
     "name": "stderr",
     "output_type": "stream",
     "text": [
      "C:\\Users\\dwilar064174\\AppData\\Local\\Continuum\\anaconda3\\lib\\site-packages\\statsmodels\\base\\model.py:496: ConvergenceWarning: Maximum Likelihood optimization failed to converge. Check mle_retvals\n",
      "  \"Check mle_retvals\", ConvergenceWarning)\n"
     ]
    },
    {
     "name": "stdout",
     "output_type": "stream",
     "text": [
      "Predicted: 531.39 Actual: 503.00\n"
     ]
    },
    {
     "name": "stderr",
     "output_type": "stream",
     "text": [
      "C:\\Users\\dwilar064174\\AppData\\Local\\Continuum\\anaconda3\\lib\\site-packages\\statsmodels\\base\\model.py:496: ConvergenceWarning: Maximum Likelihood optimization failed to converge. Check mle_retvals\n",
      "  \"Check mle_retvals\", ConvergenceWarning)\n"
     ]
    },
    {
     "name": "stdout",
     "output_type": "stream",
     "text": [
      "Predicted: 568.09 Actual: 515.00\n"
     ]
    },
    {
     "name": "stderr",
     "output_type": "stream",
     "text": [
      "C:\\Users\\dwilar064174\\AppData\\Local\\Continuum\\anaconda3\\lib\\site-packages\\statsmodels\\base\\model.py:496: ConvergenceWarning: Maximum Likelihood optimization failed to converge. Check mle_retvals\n",
      "  \"Check mle_retvals\", ConvergenceWarning)\n"
     ]
    },
    {
     "name": "stdout",
     "output_type": "stream",
     "text": [
      "Predicted: 572.25 Actual: 522.00\n"
     ]
    },
    {
     "name": "stderr",
     "output_type": "stream",
     "text": [
      "C:\\Users\\dwilar064174\\AppData\\Local\\Continuum\\anaconda3\\lib\\site-packages\\statsmodels\\base\\model.py:496: ConvergenceWarning: Maximum Likelihood optimization failed to converge. Check mle_retvals\n",
      "  \"Check mle_retvals\", ConvergenceWarning)\n"
     ]
    },
    {
     "name": "stdout",
     "output_type": "stream",
     "text": [
      "Predicted: 544.76 Actual: 492.00\n"
     ]
    },
    {
     "name": "stderr",
     "output_type": "stream",
     "text": [
      "C:\\Users\\dwilar064174\\AppData\\Local\\Continuum\\anaconda3\\lib\\site-packages\\statsmodels\\base\\model.py:496: ConvergenceWarning: Maximum Likelihood optimization failed to converge. Check mle_retvals\n",
      "  \"Check mle_retvals\", ConvergenceWarning)\n"
     ]
    },
    {
     "name": "stdout",
     "output_type": "stream",
     "text": [
      "Predicted: 506.03 Actual: 503.00\n",
      "Predicted: 511.08 Actual: 503.00\n",
      "Predicted: 519.83 Actual: 450.00\n"
     ]
    },
    {
     "name": "stderr",
     "output_type": "stream",
     "text": [
      "C:\\Users\\dwilar064174\\AppData\\Local\\Continuum\\anaconda3\\lib\\site-packages\\statsmodels\\base\\model.py:496: ConvergenceWarning: Maximum Likelihood optimization failed to converge. Check mle_retvals\n",
      "  \"Check mle_retvals\", ConvergenceWarning)\n"
     ]
    },
    {
     "name": "stdout",
     "output_type": "stream",
     "text": [
      "Predicted: 465.12 Actual: 432.00\n"
     ]
    },
    {
     "name": "stderr",
     "output_type": "stream",
     "text": [
      "C:\\Users\\dwilar064174\\AppData\\Local\\Continuum\\anaconda3\\lib\\site-packages\\statsmodels\\base\\model.py:496: ConvergenceWarning: Maximum Likelihood optimization failed to converge. Check mle_retvals\n",
      "  \"Check mle_retvals\", ConvergenceWarning)\n"
     ]
    },
    {
     "name": "stdout",
     "output_type": "stream",
     "text": [
      "Predicted: 444.92 Actual: 432.00\n"
     ]
    },
    {
     "name": "stderr",
     "output_type": "stream",
     "text": [
      "C:\\Users\\dwilar064174\\AppData\\Local\\Continuum\\anaconda3\\lib\\site-packages\\statsmodels\\base\\model.py:496: ConvergenceWarning: Maximum Likelihood optimization failed to converge. Check mle_retvals\n",
      "  \"Check mle_retvals\", ConvergenceWarning)\n"
     ]
    },
    {
     "name": "stdout",
     "output_type": "stream",
     "text": [
      "Predicted: 461.47 Actual: 458.00\n"
     ]
    },
    {
     "name": "stderr",
     "output_type": "stream",
     "text": [
      "C:\\Users\\dwilar064174\\AppData\\Local\\Continuum\\anaconda3\\lib\\site-packages\\statsmodels\\base\\model.py:496: ConvergenceWarning: Maximum Likelihood optimization failed to converge. Check mle_retvals\n",
      "  \"Check mle_retvals\", ConvergenceWarning)\n"
     ]
    },
    {
     "name": "stdout",
     "output_type": "stream",
     "text": [
      "Predicted: 473.24 Actual: 462.00\n"
     ]
    },
    {
     "name": "stderr",
     "output_type": "stream",
     "text": [
      "C:\\Users\\dwilar064174\\AppData\\Local\\Continuum\\anaconda3\\lib\\site-packages\\statsmodels\\base\\model.py:496: ConvergenceWarning: Maximum Likelihood optimization failed to converge. Check mle_retvals\n",
      "  \"Check mle_retvals\", ConvergenceWarning)\n"
     ]
    },
    {
     "name": "stdout",
     "output_type": "stream",
     "text": [
      "Predicted: 468.99 Actual: 503.00\n"
     ]
    },
    {
     "name": "stderr",
     "output_type": "stream",
     "text": [
      "C:\\Users\\dwilar064174\\AppData\\Local\\Continuum\\anaconda3\\lib\\site-packages\\statsmodels\\base\\model.py:496: ConvergenceWarning: Maximum Likelihood optimization failed to converge. Check mle_retvals\n",
      "  \"Check mle_retvals\", ConvergenceWarning)\n"
     ]
    },
    {
     "name": "stdout",
     "output_type": "stream",
     "text": [
      "Predicted: 502.48 Actual: 488.00\n"
     ]
    },
    {
     "name": "stderr",
     "output_type": "stream",
     "text": [
      "C:\\Users\\dwilar064174\\AppData\\Local\\Continuum\\anaconda3\\lib\\site-packages\\statsmodels\\base\\model.py:496: ConvergenceWarning: Maximum Likelihood optimization failed to converge. Check mle_retvals\n",
      "  \"Check mle_retvals\", ConvergenceWarning)\n"
     ]
    },
    {
     "name": "stdout",
     "output_type": "stream",
     "text": [
      "Predicted: 490.59 Actual: 466.00\n",
      "Predicted: 455.30 Actual: 492.00\n"
     ]
    },
    {
     "name": "stderr",
     "output_type": "stream",
     "text": [
      "C:\\Users\\dwilar064174\\AppData\\Local\\Continuum\\anaconda3\\lib\\site-packages\\statsmodels\\base\\model.py:496: ConvergenceWarning: Maximum Likelihood optimization failed to converge. Check mle_retvals\n",
      "  \"Check mle_retvals\", ConvergenceWarning)\n"
     ]
    },
    {
     "name": "stdout",
     "output_type": "stream",
     "text": [
      "Predicted: 488.15 Actual: 503.00\n"
     ]
    },
    {
     "name": "stderr",
     "output_type": "stream",
     "text": [
      "C:\\Users\\dwilar064174\\AppData\\Local\\Continuum\\anaconda3\\lib\\site-packages\\statsmodels\\base\\model.py:496: ConvergenceWarning: Maximum Likelihood optimization failed to converge. Check mle_retvals\n",
      "  \"Check mle_retvals\", ConvergenceWarning)\n"
     ]
    },
    {
     "name": "stdout",
     "output_type": "stream",
     "text": [
      "Predicted: 509.28 Actual: 515.00\n",
      "Predicted: 504.75 Actual: 500.00\n",
      "Predicted: 502.22 Actual: 522.00\n",
      "Predicted: 521.84 Actual: 575.00\n",
      "Predicted: 569.86 Actual: 583.00\n",
      "Predicted: 572.65 Actual: 587.00\n",
      "Predicted: 569.42 Actual: 628.00\n"
     ]
    },
    {
     "name": "stderr",
     "output_type": "stream",
     "text": [
      "C:\\Users\\dwilar064174\\AppData\\Local\\Continuum\\anaconda3\\lib\\site-packages\\statsmodels\\base\\model.py:496: ConvergenceWarning: Maximum Likelihood optimization failed to converge. Check mle_retvals\n",
      "  \"Check mle_retvals\", ConvergenceWarning)\n"
     ]
    },
    {
     "name": "stdout",
     "output_type": "stream",
     "text": [
      "Predicted: 623.93 Actual: 640.00\n",
      "Predicted: 633.39 Actual: 609.00\n"
     ]
    },
    {
     "name": "stderr",
     "output_type": "stream",
     "text": [
      "C:\\Users\\dwilar064174\\AppData\\Local\\Continuum\\anaconda3\\lib\\site-packages\\statsmodels\\base\\model.py:496: ConvergenceWarning: Maximum Likelihood optimization failed to converge. Check mle_retvals\n",
      "  \"Check mle_retvals\", ConvergenceWarning)\n"
     ]
    },
    {
     "name": "stdout",
     "output_type": "stream",
     "text": [
      "Predicted: 597.48 Actual: 606.00\n",
      "Predicted: 611.24 Actual: 632.00\n"
     ]
    },
    {
     "name": "stderr",
     "output_type": "stream",
     "text": [
      "C:\\Users\\dwilar064174\\AppData\\Local\\Continuum\\anaconda3\\lib\\site-packages\\statsmodels\\base\\model.py:496: ConvergenceWarning: Maximum Likelihood optimization failed to converge. Check mle_retvals\n",
      "  \"Check mle_retvals\", ConvergenceWarning)\n"
     ]
    },
    {
     "name": "stdout",
     "output_type": "stream",
     "text": [
      "Predicted: 644.14 Actual: 617.00\n"
     ]
    },
    {
     "name": "stderr",
     "output_type": "stream",
     "text": [
      "C:\\Users\\dwilar064174\\AppData\\Local\\Continuum\\anaconda3\\lib\\site-packages\\statsmodels\\base\\model.py:496: ConvergenceWarning: Maximum Likelihood optimization failed to converge. Check mle_retvals\n",
      "  \"Check mle_retvals\", ConvergenceWarning)\n"
     ]
    },
    {
     "name": "stdout",
     "output_type": "stream",
     "text": [
      "Predicted: 621.48 Actual: 613.00\n"
     ]
    },
    {
     "name": "stderr",
     "output_type": "stream",
     "text": [
      "C:\\Users\\dwilar064174\\AppData\\Local\\Continuum\\anaconda3\\lib\\site-packages\\statsmodels\\base\\model.py:496: ConvergenceWarning: Maximum Likelihood optimization failed to converge. Check mle_retvals\n",
      "  \"Check mle_retvals\", ConvergenceWarning)\n"
     ]
    },
    {
     "name": "stdout",
     "output_type": "stream",
     "text": [
      "Predicted: 619.03 Actual: 598.00\n",
      "Predicted: 616.44 Actual: 575.00\n",
      "Predicted: 585.91 Actual: 564.00\n",
      "Predicted: 575.55 Actual: 549.00\n",
      "Predicted: 567.50 Actual: 538.00\n",
      "RMSE: 30.86\n"
     ]
    }
   ],
   "source": [
    "history = [i for i in train_dataset]\n",
    "prediction = list()\n",
    "\n",
    "# walk forward validation model\n",
    "for i in range(len(test_dataset)):\n",
    "    \n",
    "    # remove noise\n",
    "    x_train , lm_val = boxcox(history)\n",
    "    \n",
    "    if lm_val < -5 :\n",
    "        x_train , lm_val = history, 1\n",
    "        \n",
    "    # Fit model and get predictions\n",
    "    model_fitted = ARIMA(x_train, order=(7,1,0)).fit(disp=0)\n",
    "    y_pred = inverse_boxcox(model_fitted.forecast()[0], lm_val)    \n",
    "    prediction.append(y_pred)\n",
    "    \n",
    "    # Append history\n",
    "    history.append(test_dataset[i])\n",
    "    \n",
    "    print('Predicted: %.2f Actual: %.2f' % (y_pred, test_dataset[i]))\n",
    "    \n",
    "print('RMSE: %.2f' % (math.sqrt(mean_squared_error(test_dataset, prediction))))"
   ]
  },
  {
   "cell_type": "markdown",
   "metadata": {},
   "source": [
    "### Analysis (ARIMA(7,1,0)):\n",
    "Following observation can be made from the above ARIMA(7,1,0) <br>\n",
    "RMSE value of 30.86 seems worst performance as compared to the previous models <br>"
   ]
  },
  {
   "cell_type": "markdown",
   "metadata": {},
   "source": [
    "## Applying ARIMA (0,1,0) to Validation Data"
   ]
  },
  {
   "cell_type": "code",
   "execution_count": 199,
   "metadata": {},
   "outputs": [],
   "source": [
    "## Making a Validation from Validation.csv\n",
    "dataset = datasetnew.values\n",
    "validation= validationnew.values\n",
    "\n",
    "train_dataset=dataset.astype(float);\n",
    "test_dataset=validation.astype(float);"
   ]
  },
  {
   "cell_type": "code",
   "execution_count": 200,
   "metadata": {
    "scrolled": true
   },
   "outputs": [
    {
     "name": "stdout",
     "output_type": "stream",
     "text": [
      "Predicted: 541.04 Actual: 568.00\n",
      "Predicted: 571.49 Actual: 575.00\n",
      "Predicted: 578.51 Actual: 579.00\n",
      "Predicted: 582.47 Actual: 587.00\n",
      "Predicted: 590.49 Actual: 602.00\n",
      "Predicted: 605.63 Actual: 594.00\n",
      "Predicted: 597.40 Actual: 587.00\n",
      "Predicted: 590.20 Actual: 587.00\n",
      "Predicted: 590.11 Actual: 625.00\n",
      "Predicted: 628.56 Actual: 613.00\n",
      "RMSE: 16.14\n"
     ]
    },
    {
     "name": "stderr",
     "output_type": "stream",
     "text": [
      "C:\\Users\\dwilar064174\\AppData\\Local\\Continuum\\anaconda3\\lib\\site-packages\\scipy\\signal\\signaltools.py:1333: FutureWarning: Using a non-tuple sequence for multidimensional indexing is deprecated; use `arr[tuple(seq)]` instead of `arr[seq]`. In the future this will be interpreted as an array index, `arr[np.array(seq)]`, which will result either in an error or a different result.\n",
      "  out_full[ind] += zi\n",
      "C:\\Users\\dwilar064174\\AppData\\Local\\Continuum\\anaconda3\\lib\\site-packages\\scipy\\signal\\signaltools.py:1336: FutureWarning: Using a non-tuple sequence for multidimensional indexing is deprecated; use `arr[tuple(seq)]` instead of `arr[seq]`. In the future this will be interpreted as an array index, `arr[np.array(seq)]`, which will result either in an error or a different result.\n",
      "  out = out_full[ind]\n",
      "C:\\Users\\dwilar064174\\AppData\\Local\\Continuum\\anaconda3\\lib\\site-packages\\scipy\\signal\\signaltools.py:1342: FutureWarning: Using a non-tuple sequence for multidimensional indexing is deprecated; use `arr[tuple(seq)]` instead of `arr[seq]`. In the future this will be interpreted as an array index, `arr[np.array(seq)]`, which will result either in an error or a different result.\n",
      "  zf = out_full[ind]\n"
     ]
    }
   ],
   "source": [
    "history = [i for i in train_dataset]\n",
    "prediction = list()\n",
    "\n",
    "# walk forward validation model\n",
    "for i in range(len(test_dataset)):\n",
    "    \n",
    "    # remove noise\n",
    "    x_train , lm_val = boxcox(history)\n",
    "    \n",
    "    if lm_val < -5 :\n",
    "        x_train , lm_val = history, 1\n",
    "        \n",
    "    # Fit model and get predictions\n",
    "    model_fitted = ARIMA(x_train, order=(0,1,0)).fit(disp=0)\n",
    "    y_pred = inverse_boxcox(model_fitted.forecast()[0], lm_val)    \n",
    "    prediction.append(y_pred)\n",
    "    \n",
    "    # Append history\n",
    "    history.append(test_dataset[i])\n",
    "    \n",
    "    print('Predicted: %.2f Actual: %.2f' % (y_pred, test_dataset[i]))\n",
    "    \n",
    "print('RMSE: %.2f' % (math.sqrt(mean_squared_error(test_dataset, prediction))))"
   ]
  },
  {
   "cell_type": "markdown",
   "metadata": {},
   "source": [
    "Didapatkan RMSE 16.14 lebih kecil daripada train-test data sebelumnya. "
   ]
  },
  {
   "cell_type": "code",
   "execution_count": 201,
   "metadata": {
    "scrolled": false
   },
   "outputs": [
    {
     "data": {
      "image/png": "[encoded data removed]",
      "text/plain": [
       "<matplotlib.figure.Figure at 0x2889200e0b8>"
      ]
     },
     "metadata": {},
     "output_type": "display_data"
    }
   ],
   "source": [
    "plt.figure(figsize=(15,4))\n",
    "plt.plot(test_dataset, label='True')\n",
    "plt.plot(prediction, label='Predicted')\n",
    "plt.xticks(np.linspace(0, 9, 9), datasetnew[len(datasetnew)-9:].index, rotation=90 )\n",
    "plt.ylabel('Water')\n",
    "plt.xlabel('Time')\n",
    "plt.legend()\n",
    "plt.title('Results for ARIMA(0,1,0)')\n",
    "plt.show()\n"
   ]
  },
  {
   "cell_type": "markdown",
   "metadata": {},
   "source": [
    "Prediksi pemakaian air oleh warga Baltimore dapat di lihat dari pengaplikasian model ARIMA (0,1,0) dengan data validasi diatas. "
   ]
  },
  {
   "cell_type": "markdown",
   "metadata": {},
   "source": [
    "### Insights :\n",
    "- Dari Analisis ARIMA diatas, RMSE paling kecil didapatkan untuk ARIMA (0,1,0). Nilai RMSE nya adalah 22.53 untuk dataset yang digunakan. \n",
    "- Kita dapat menggunakan model tersebut untuk memprediksi untuk penggunaan air pada tahun-tahun setelahnya. \n",
    "- Namun demikian, RMSE tersebut cukup besar. Pada analisis selanjutnya mungkin bisa dilakukan **GRID SEARCH ARIMA** untuk mendapatkan nilai RMSE terkecil dan dari model ARIMA yang didapatkan semakin mendekati nilai kebenaran. "
   ]
  }
 ],
 "metadata": {
  "kernelspec": {
   "display_name": "Python 3",
   "language": "python",
   "name": "python3"
  },
  "language_info": {
   "codemirror_mode": {
    "name": "ipython",
    "version": 3
   },
   "file_extension": ".py",
   "mimetype": "text/x-python",
   "name": "python",
   "nbconvert_exporter": "python",
   "pygments_lexer": "ipython3",
   "version": "3.6.4"
  }
 },
 "nbformat": 4,
 "nbformat_minor": 2
}
